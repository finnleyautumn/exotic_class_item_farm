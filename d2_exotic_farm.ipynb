{
 "cells": [
  {
   "cell_type": "markdown",
   "metadata": {},
   "source": [
    "# Destiny 2 Exotic Class Item Farm Analysis\n",
    "*Finnley Autumn Rogers* | 2024-08-01\n",
    "\n",
    "## Introduction\n",
    "\n",
    "With the launch Destiny 2's most recent expansion, *the Final Shape*, came the addition of a new piece of armor known as the Exotic Class Item.\n",
    "\n",
    "#### Background for non-destiny players\n",
    "\n",
    "Destiny 2 is an Massively Multiplayer Online First Person Shooter (MMOFPS), where the player is incentivized to complete certain activities in order to recieve randomly generated 'loot', be it weapons or armor. There are three playable Classes that any player can choose (titan, warlock, hunter), and within those classes is a special 'class item', or a piece of armor that can only be worn by that particular class (e.g. Hunter's have cloaks, Warlocks have armbands, and Titans have a 'mark'). \n",
    "\n",
    "Each piece of armor can have different rarity values, where 'Exotic' is the rarest. Exotic armor provides a singular, powerful, unchanging, benefit (perk) for wearing, and as a result, only one piece of exotic armor can be worn at a time. \n",
    "\n",
    "This particular item, the Exotic Class item can be obtained from two different sources (I'll discuss that more later), and offers a combination of two pieces of exotic armor. Each Class gets their own version of this item, with slightly different perks available to each class. \n",
    "\n",
    "What makes this so unique is that, unlike usual exotic armor, the perks available on each class item are randomly selected each time the item is attained (coloquially referred to as a 'drop'). There are 2 perk 'columns', with 8 perks that can possibly appear in each column, for 64 total versions of the Exotic Class item *per class*.\n",
    "\n",
    "Because of the potency of certain perk combinations, and the ever changing nature of an always-online video game, many different combinations are seen as desirable either to facilitate various playstyles, or simply from a completionist perspective. As such, the sources of the Class Item are heavily scrutinized by the playerbase, to reach an understanding of the 'most efficient' way to get a Class Item drop. \n",
    "\n",
    "In broad strokes there are two kinds of players pursuing different rolls of the Exotic Class Item.\n",
    "1. Completionists: Players who will continue to grind until they have recieved all 64 possible versions of the item\n",
    "2. Targeted Runners: Players who are looking for one specific combination of perks, and will stop pursuing the item once received.\n",
    "\n",
    "Those are the two player cases I will examine in the rest of this analysis. \n",
    "\n",
    "I would like to acknowledge that at the time of this analysis being created, the developer of the game, Bungie, has announced upcoming changes to the drop rates that will instantly make this analysis out of date. As such, I am creating this as more of an exercise in Statistical analysis, and because I'm honestly a little curious about what this grind acutally looks like.\n",
    "\n",
    "## First Steps\n",
    "\n",
    "To begin, I need to establish the baseline probabilities. \n",
    "\n",
    "I would like to assume the following:\n",
    "- Each perk has a uniform probability of dropping, presumably $\\frac{1}{8}$\n",
    "    - By extension, any given drop of a Class Item has a $\\frac{1}{64}$ chance of appearing.\n",
    "- Each column is independent of one another\n",
    "    - the perks that drop in column 1 have no influence on the perks that drop in column 2.\n",
    "\n",
    "This is all pretty cut and dry binomial. \n",
    "\n",
    "To be statistically rigorous, we should test our assumptions. Some brave souls compiled the data for hundreds of Exotic Class item drops in a reddit thread [here](https://old.reddit.com/r/DestinyTheGame/comments/1ec8ewt/in_light_of_the_upcoming_exotic_class_item/). Using this data, we can test the drop rate assumption, but unfortunately not the independence assumption as the data is only available as totals, and not per drop.\n",
    "\n",
    "The only way I can think to test indepence would involve an absurd amount of destiny playtime, which I unfortunately do not have time to do. The only way I can think to proceed then, is to just assume that the two columns are independent. This is **not** a sound idea, but for a statistical exercise I'm making on the side over some weekends I would say it's fine. \n",
    "\n",
    "We can begin by loading the parsed dataset based on the numbers given in the above reddit thread. \n",
    "\n",
    "All data used in this analysis will be available in the ```data/``` folder in this repository.\n"
   ]
  },
  {
   "cell_type": "code",
   "execution_count": 63,
   "metadata": {},
   "outputs": [],
   "source": [
    "from statsmodels.stats.proportion import binom_test\n",
    "import pandas as pd\n",
    "\n",
    "import matplotlib.pyplot as plt\n",
    "plt.style.use('ggplot')"
   ]
  },
  {
   "cell_type": "code",
   "execution_count": 40,
   "metadata": {},
   "outputs": [
    {
     "name": "stdout",
     "output_type": "stream",
     "text": [
      "<class 'pandas.core.frame.DataFrame'>\n",
      "RangeIndex: 48 entries, 0 to 47\n",
      "Data columns (total 4 columns):\n",
      " #   Column       Non-Null Count  Dtype \n",
      "---  ------       --------------  ----- \n",
      " 0   class_item   48 non-null     object\n",
      " 1   perk_column  48 non-null     int64 \n",
      " 2   perk_name    48 non-null     object\n",
      " 3   drops        48 non-null     int64 \n",
      "dtypes: int64(2), object(2)\n",
      "memory usage: 1.6+ KB\n"
     ]
    }
   ],
   "source": [
    "perk_drops = pd.read_csv(\"data/perk_drops.csv\")\n",
    "perk_drops.info()"
   ]
  },
  {
   "cell_type": "code",
   "execution_count": 68,
   "metadata": {},
   "outputs": [
    {
     "data": {
      "text/html": [
       "<div>\n",
       "<style scoped>\n",
       "    .dataframe tbody tr th:only-of-type {\n",
       "        vertical-align: middle;\n",
       "    }\n",
       "\n",
       "    .dataframe tbody tr th {\n",
       "        vertical-align: top;\n",
       "    }\n",
       "\n",
       "    .dataframe thead th {\n",
       "        text-align: right;\n",
       "    }\n",
       "</style>\n",
       "<table border=\"1\" class=\"dataframe\">\n",
       "  <thead>\n",
       "    <tr style=\"text-align: right;\">\n",
       "      <th></th>\n",
       "      <th>class_item</th>\n",
       "      <th>perk_column</th>\n",
       "      <th>perk_name</th>\n",
       "      <th>drops</th>\n",
       "    </tr>\n",
       "  </thead>\n",
       "  <tbody>\n",
       "    <tr>\n",
       "      <th>0</th>\n",
       "      <td>hunter</td>\n",
       "      <td>1</td>\n",
       "      <td>Assassin</td>\n",
       "      <td>21</td>\n",
       "    </tr>\n",
       "    <tr>\n",
       "      <th>1</th>\n",
       "      <td>hunter</td>\n",
       "      <td>1</td>\n",
       "      <td>Inmost Light</td>\n",
       "      <td>23</td>\n",
       "    </tr>\n",
       "  </tbody>\n",
       "</table>\n",
       "</div>"
      ],
      "text/plain": [
       "  class_item  perk_column     perk_name  drops\n",
       "0     hunter            1      Assassin     21\n",
       "1     hunter            1  Inmost Light     23"
      ]
     },
     "execution_count": 68,
     "metadata": {},
     "output_type": "execute_result"
    }
   ],
   "source": [
    "perk_drops.head(2)"
   ]
  },
  {
   "cell_type": "code",
   "execution_count": 42,
   "metadata": {},
   "outputs": [
    {
     "name": "stdout",
     "output_type": "stream",
     "text": [
      "hunter\n",
      "   perk_column  drops\n",
      "0            1    182\n",
      "1            2    182\n",
      "warlock\n",
      "   perk_column  drops\n",
      "0            1    161\n",
      "1            2    161\n",
      "titan\n",
      "   perk_column  drops\n",
      "0            1    287\n",
      "1            2    287\n"
     ]
    }
   ],
   "source": [
    "for player_class in perk_drops.class_item.unique():\n",
    "    print(player_class)\n",
    "    print(perk_drops[perk_drops.class_item == player_class][['perk_column', 'drops']].groupby('perk_column').sum().reset_index())"
   ]
  },
  {
   "cell_type": "markdown",
   "metadata": {},
   "source": [
    "This all checks out - since once perk from each column appears in every drop we should be seeing matching totals for each column. \n",
    "\n",
    "Now lets check on our assumptions of this data. \n",
    "\n",
    "There are 2 assumptions that will need to be checked if possible. \n",
    "1. The drops in each column are *independent* of each other (what drops in column 1 has no influence on what drops in column 2)\n",
    "    - As mentioned above, I do not have any data to test this assumption unfortunately. For the purposes of this exploratory/practice analysis, I'm proceeding on the assumption that **the two perk columns are independent**\n",
    "2. Each perk has a $\\frac{1}{8}$ probability to drop, for a $\\frac{1}{64}$ total probability for any given class item drop.\n",
    "    - I do have data to test this, based on the reddit post linked above.\n",
    "\n",
    "Now I can proceed with a binomial proportion test (```binom_test``` from ```statsmodels```)\n",
    "\n",
    "I can also go ahead and establish the sample parameters:\n",
    "\n",
    "$E(x) = np$\n",
    "\n",
    "$\\sigma^2(x) = np(1-p)$\n",
    "\n",
    "where p = 0.125 = $\\frac{1}{8}$\n",
    "\n",
    "This give us the following:\n",
    "\n",
    "| Class Name | $E(x)$ | $\\sigma^2(x)$ | $\\sigma(x)$ | \n",
    "| --- | --- | --- | --- |\n",
    "| Hunter | 22.75 | 19.91 | 4.46 |\n",
    "| Warlock | 20.13 | 17.61 | 4.2 |\n",
    "| Titan | 35.88 | 31.39 | 5.6 |"
   ]
  },
  {
   "cell_type": "code",
   "execution_count": 62,
   "metadata": {},
   "outputs": [
    {
     "data": {
      "image/png": "[encoded data removed]",
      "text/plain": [
       "<Figure size 1000x500 with 3 Axes>"
      ]
     },
     "metadata": {},
     "output_type": "display_data"
    }
   ],
   "source": [
    "expected = {\n",
    "    'hunter': 22.75,\n",
    "    'warlock': 20.13,\n",
    "    'titan': 35.88\n",
    "}\n",
    "\n",
    "fig, ax = plt.subplots(nrows=1,ncols=3, tight_layout = True, figsize=(10,5))\n",
    "\n",
    "for player_class in perk_drops.class_item.unique():\n",
    "    temp = perk_drops[perk_drops.class_item == player_class]\n",
    "\n",
    "    ind = list(perk_drops.class_item.unique()).index(player_class)\n",
    "\n",
    "    bar_colors = temp.perk_column.map({1:'dodgerblue', 2:'darkorchid'})\n",
    "\n",
    "    \n",
    "\n",
    "    ax[ind].barh(temp.perk_name, temp.drops, label = temp.perk_column, color = bar_colors)\n",
    "\n",
    "    ax[ind].set_title(f\"{player_class.title()}\")\n",
    "    ax[ind].set_ylabel(\"Perk Name\")\n",
    "    ax[ind].set_xlabel(\"Drop Count\")\n",
    "\n",
    "    # add line for expected value\n",
    "    ax[ind].axvline(x = expected[player_class], color = 'coral')\n",
    "\n",
    "plt.savefig(f\"outputs/all_classes_perk_drops_bar.png\")\n",
    "plt.show()"
   ]
  },
  {
   "cell_type": "markdown",
   "metadata": {},
   "source": [
    "The majority of these perks are within 1 standard deviation of the expected number of drops, tenatively, without any testing, I would say its reasonable to assume our 1/8 probability for the whole dataset. \n",
    "\n",
    "Now for each of the perks, lets run a binomial proportion test to see if their drop rates are significantly diffrerent than $\\frac{1}{8}$\n",
    "\n",
    "$H_{0} = p_{1} - p_{0} = 0$\n",
    "\n",
    "$H_{a} = p_{1} - p_{0} \\neq 0$\n",
    "\n",
    "where $p_{1} = p_{perk drop rate}$ and $p_{0} = 0.125$\n",
    "\n",
    "For this, given the slightly smaller sample and that this is not a rigorous analysis, I'm fine with a lower confidence level, so I'll use $\\alpha = 0.1$\n",
    "\n",
    "I'm essentially only looking to see if I find any evidence to reject my null hypothesis at all. "
   ]
  },
  {
   "cell_type": "code",
   "execution_count": 89,
   "metadata": {},
   "outputs": [],
   "source": [
    "p_values = []\n",
    "\n",
    "for player_class in perk_drops.class_item.unique():\n",
    "    temp = perk_drops[perk_drops.class_item == player_class]\n",
    "\n",
    "    # number of observations\n",
    "    n_obs = int(sum(temp.drops) / 2)\n",
    "\n",
    "    # for each perk run the test and save the pvalue\n",
    "    for perk in temp.perk_name:\n",
    "        p_values.append(binom_test(\n",
    "            temp[temp['perk_name'] == perk].drops.item(),\n",
    "            n_obs,\n",
    "            0.125 \n",
    "        ))\n"
   ]
  },
  {
   "cell_type": "code",
   "execution_count": 104,
   "metadata": {},
   "outputs": [],
   "source": [
    "perk_drops['p_values'] = [round(float(x), 4) for x in p_values]\n",
    "\n",
    "perk_drops['significant'] = [True if x < 0.1 else False for x in p_values]"
   ]
  },
  {
   "cell_type": "code",
   "execution_count": 105,
   "metadata": {},
   "outputs": [
    {
     "data": {
      "text/html": [
       "<div>\n",
       "<style scoped>\n",
       "    .dataframe tbody tr th:only-of-type {\n",
       "        vertical-align: middle;\n",
       "    }\n",
       "\n",
       "    .dataframe tbody tr th {\n",
       "        vertical-align: top;\n",
       "    }\n",
       "\n",
       "    .dataframe thead th {\n",
       "        text-align: right;\n",
       "    }\n",
       "</style>\n",
       "<table border=\"1\" class=\"dataframe\">\n",
       "  <thead>\n",
       "    <tr style=\"text-align: right;\">\n",
       "      <th></th>\n",
       "      <th>class_item</th>\n",
       "      <th>perk_column</th>\n",
       "      <th>perk_name</th>\n",
       "      <th>drops</th>\n",
       "      <th>p_values</th>\n",
       "      <th>significant</th>\n",
       "    </tr>\n",
       "  </thead>\n",
       "  <tbody>\n",
       "    <tr>\n",
       "      <th>0</th>\n",
       "      <td>hunter</td>\n",
       "      <td>1</td>\n",
       "      <td>Assassin</td>\n",
       "      <td>21</td>\n",
       "      <td>0.8224</td>\n",
       "      <td>False</td>\n",
       "    </tr>\n",
       "    <tr>\n",
       "      <th>1</th>\n",
       "      <td>hunter</td>\n",
       "      <td>1</td>\n",
       "      <td>Inmost Light</td>\n",
       "      <td>23</td>\n",
       "      <td>0.9109</td>\n",
       "      <td>False</td>\n",
       "    </tr>\n",
       "  </tbody>\n",
       "</table>\n",
       "</div>"
      ],
      "text/plain": [
       "  class_item  perk_column     perk_name  drops  p_values  significant\n",
       "0     hunter            1      Assassin     21    0.8224        False\n",
       "1     hunter            1  Inmost Light     23    0.9109        False"
      ]
     },
     "execution_count": 105,
     "metadata": {},
     "output_type": "execute_result"
    }
   ],
   "source": [
    "perk_drops.head(2)"
   ]
  },
  {
   "cell_type": "code",
   "execution_count": 106,
   "metadata": {},
   "outputs": [
    {
     "data": {
      "text/html": [
       "<div>\n",
       "<style scoped>\n",
       "    .dataframe tbody tr th:only-of-type {\n",
       "        vertical-align: middle;\n",
       "    }\n",
       "\n",
       "    .dataframe tbody tr th {\n",
       "        vertical-align: top;\n",
       "    }\n",
       "\n",
       "    .dataframe thead th {\n",
       "        text-align: right;\n",
       "    }\n",
       "</style>\n",
       "<table border=\"1\" class=\"dataframe\">\n",
       "  <thead>\n",
       "    <tr style=\"text-align: right;\">\n",
       "      <th></th>\n",
       "      <th>class_item</th>\n",
       "      <th>perk_column</th>\n",
       "      <th>perk_name</th>\n",
       "      <th>drops</th>\n",
       "      <th>p_values</th>\n",
       "      <th>significant</th>\n",
       "    </tr>\n",
       "  </thead>\n",
       "  <tbody>\n",
       "    <tr>\n",
       "      <th>30</th>\n",
       "      <td>warlock</td>\n",
       "      <td>2</td>\n",
       "      <td>Synthoceps</td>\n",
       "      <td>11</td>\n",
       "      <td>0.0310</td>\n",
       "      <td>True</td>\n",
       "    </tr>\n",
       "    <tr>\n",
       "      <th>45</th>\n",
       "      <td>titan</td>\n",
       "      <td>2</td>\n",
       "      <td>Armamentarium</td>\n",
       "      <td>22</td>\n",
       "      <td>0.0121</td>\n",
       "      <td>True</td>\n",
       "    </tr>\n",
       "    <tr>\n",
       "      <th>47</th>\n",
       "      <td>titan</td>\n",
       "      <td>2</td>\n",
       "      <td>Horn</td>\n",
       "      <td>50</td>\n",
       "      <td>0.0156</td>\n",
       "      <td>True</td>\n",
       "    </tr>\n",
       "  </tbody>\n",
       "</table>\n",
       "</div>"
      ],
      "text/plain": [
       "   class_item  perk_column      perk_name  drops  p_values  significant\n",
       "30    warlock            2     Synthoceps     11    0.0310         True\n",
       "45      titan            2  Armamentarium     22    0.0121         True\n",
       "47      titan            2           Horn     50    0.0156         True"
      ]
     },
     "execution_count": 106,
     "metadata": {},
     "output_type": "execute_result"
    }
   ],
   "source": [
    "perk_drops[perk_drops.significant == True]"
   ]
  },
  {
   "cell_type": "markdown",
   "metadata": {},
   "source": [
    "Hmm ok, I am able to find evidence to reject my null hypothesis for three perks, two from the Titan class, and one from Warlocks. For every other perk, I do not have sufficient evidence to think that the drop rate would be different from $\\frac{1}{8}$.\n",
    "\n",
    "All three would be rejected at a 99% confidence, but changing your confidence mid test is... frowned upon.\n",
    "\n",
    "My thought is to go forward with my $p(perkdrop) = \\frac{1}{8}$ assumption regardless for the following reasons:\n",
    "\n",
    "1. It's only 3 perks. Out of 16 for each class (48 total). There's no reason to think that these three specifically have different drop rates. Especially since;\n",
    "2. The Hunter class isn't represented. I was not able to find evidence that *any* of the Hunter perks were significantly different than the $\\frac{1}{8}$ drop rate assumption. \n",
    "3. It makes no sense. I think if one perk out of each class had a slightly different drop rate I would proceed differently. But since it appears to be three semi-random selections I'm more inclined to believe it's just some bad luck. Each perk's p-value not being outrageously high gives me more comfort in that decision.\n",
    "\n",
    "## Testing conclusion\n",
    "\n",
    "I am not able to test independence between the two perk columns as I do not have access to a reliable dataset with that information. However I believe that I was able to establish that each perk has a $\\frac{1}{8}$ chance of dropping individually, for a combined $\\frac{1}{64}$ chance of any given perk combination. \n",
    "\n",
    "I did find evidence to reject my assumption, that three perks may have a different drop rate, but as addressed above, I am not convinced by this result and will proceed with the assumption that each perk has a $\\frac{1}{8}$ chance of dropping.\n",
    "\n",
    "## Chest Drop Rate\n",
    "\n",
    "Before getting into simulations, we need to look at one more thing.\n",
    "\n",
    "There are 2 sources of this exotic class item, with different drop rates for each. The first is the mission *Dual Destiny*, which, if completed, has a 100% item drop rate. The second is chests around the Pale Heart area. These chests have an extremely low chance of dropping an item, and would appear to exist just to give an item every now and then while the player is doing other activities, not to be focus farmed. \n",
    "\n",
    "A reddit user farmed 99 of these class items from world chests, posting the data to a reddit thread [here](https://old.reddit.com/r/DestinyTheGame/comments/1dwuj5p/i_farmed_99_class_items_from_pale_heart_chests/). The recorded data is split between three classes again (presumably three seperate characters), and records the drop number, and the number of drops since the previous one. I've converted this into a csv file for easier use in jupyter. You can find that csv in the data folder of this github. \n",
    "\n",
    "The presumed drop rate, based entirely on community speculation is 2.5% (0.025). Using this data, I'll quickly examine that claim.\n",
    "\n",
    "**Assumptions**\n",
    "- Each chest is independent\n",
    "    - My assumption here is based on a developer update that indicated that \"drop protections\" would be added in a future update (e.g. the chance of the item dropping would increase until the player got a drop, then resetting to a baseline value and repeating until the next drop)\n",
    "- The drop rates are the same across classes.\n",
    "    - I can examine this using the data provided\n"
   ]
  },
  {
   "cell_type": "code",
   "execution_count": 109,
   "metadata": {},
   "outputs": [
    {
     "data": {
      "text/html": [
       "<div>\n",
       "<style scoped>\n",
       "    .dataframe tbody tr th:only-of-type {\n",
       "        vertical-align: middle;\n",
       "    }\n",
       "\n",
       "    .dataframe tbody tr th {\n",
       "        vertical-align: top;\n",
       "    }\n",
       "\n",
       "    .dataframe thead th {\n",
       "        text-align: right;\n",
       "    }\n",
       "</style>\n",
       "<table border=\"1\" class=\"dataframe\">\n",
       "  <thead>\n",
       "    <tr style=\"text-align: right;\">\n",
       "      <th></th>\n",
       "      <th>player_class</th>\n",
       "      <th>drop_no</th>\n",
       "      <th>opened_since_previous_drop</th>\n",
       "      <th>total_chests</th>\n",
       "    </tr>\n",
       "  </thead>\n",
       "  <tbody>\n",
       "    <tr>\n",
       "      <th>0</th>\n",
       "      <td>hunter</td>\n",
       "      <td>1</td>\n",
       "      <td>46</td>\n",
       "      <td>46</td>\n",
       "    </tr>\n",
       "    <tr>\n",
       "      <th>1</th>\n",
       "      <td>hunter</td>\n",
       "      <td>2</td>\n",
       "      <td>45</td>\n",
       "      <td>91</td>\n",
       "    </tr>\n",
       "  </tbody>\n",
       "</table>\n",
       "</div>"
      ],
      "text/plain": [
       "  player_class  drop_no  opened_since_previous_drop  total_chests\n",
       "0       hunter        1                          46            46\n",
       "1       hunter        2                          45            91"
      ]
     },
     "execution_count": 109,
     "metadata": {},
     "output_type": "execute_result"
    }
   ],
   "source": [
    "world_chests = pd.read_csv(\"data/world_chests.csv\")\n",
    "world_chests.head(2)"
   ]
  },
  {
   "cell_type": "code",
   "execution_count": 110,
   "metadata": {},
   "outputs": [
    {
     "name": "stdout",
     "output_type": "stream",
     "text": [
      "<class 'pandas.core.frame.DataFrame'>\n",
      "RangeIndex: 99 entries, 0 to 98\n",
      "Data columns (total 4 columns):\n",
      " #   Column                      Non-Null Count  Dtype \n",
      "---  ------                      --------------  ----- \n",
      " 0   player_class                99 non-null     object\n",
      " 1   drop_no                     99 non-null     int64 \n",
      " 2   opened_since_previous_drop  99 non-null     int64 \n",
      " 3   total_chests                99 non-null     int64 \n",
      "dtypes: int64(3), object(1)\n",
      "memory usage: 3.2+ KB\n"
     ]
    }
   ],
   "source": [
    "world_chests.info()"
   ]
  },
  {
   "cell_type": "code",
   "execution_count": 112,
   "metadata": {},
   "outputs": [
    {
     "data": {
      "text/plain": [
       "<BarContainer object of 99 artists>"
      ]
     },
     "execution_count": 112,
     "metadata": {},
     "output_type": "execute_result"
    },
    {
     "data": {
      "image/png": "[encoded data removed]",
      "text/plain": [
       "<Figure size 640x480 with 1 Axes>"
      ]
     },
     "metadata": {},
     "output_type": "display_data"
    }
   ],
   "source": [
    "fig,ax=plt.subplots(1,1, tight_layout = True)\n",
    "ax.bar(world_chests.drop_no, world_chests.opened_since_previous_drop)"
   ]
  },
  {
   "cell_type": "code",
   "execution_count": null,
   "metadata": {},
   "outputs": [],
   "source": []
  }
 ],
 "metadata": {
  "kernelspec": {
   "display_name": "Python 3",
   "language": "python",
   "name": "python3"
  },
  "language_info": {
   "codemirror_mode": {
    "name": "ipython",
    "version": 3
   },
   "file_extension": ".py",
   "mimetype": "text/x-python",
   "name": "python",
   "nbconvert_exporter": "python",
   "pygments_lexer": "ipython3",
   "version": "3.9.6"
  }
 },
 "nbformat": 4,
 "nbformat_minor": 2
}
